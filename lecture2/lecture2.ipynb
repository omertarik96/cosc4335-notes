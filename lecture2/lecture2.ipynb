{
 "cells": [
  {
   "cell_type": "markdown",
   "metadata": {},
   "source": [
    " # Lecture 2 - June 4, 2019\n",
    " \n",
    " ## Topics of Exam 1\n",
    " \n",
    " - Regression\n",
    " - Data Exploration\n",
    " - **Follow the slides**\n",
    " \n",
    " \n",
    " ## Regression and Correlation\n",
    " \n",
    " **Model**: Representation of a phenomenon\n",
    " \n",
    " **Math/Stats Model**: Often describe relationship between variables\n",
    " \n",
    " **Random Error**: makes model probobilistic\n",
    " \n",
    " **Types of Probabilistic Models**\n",
    " 1. Regression Models\n",
    " 2. Correlation Models\n",
    " 3. Other Models\n",
    " \n",
    " \n",
    " *We try to minimize random error*\n",
    " \n",
    " *Regression models mainly used for prediction & estimation*\n",
    " \n",
    " **Fitted Model**: how our model is fitting with our data\n",
    " \n",
    " **Linear Regression**: According to a data finding a model, finding a fitted model and evaluating the model with new data\n",
    " \n",
    " *Use of scatter plot is really important in linear regression*\n",
    " \n",
    " **Least square**: Best fit means difference between actual Y values and predicted y values is a minumum. SS\n",
    " \n",
    " **SSE**: Sum of the Squared Errors\n",
    " \n",
    " \n",
    " "
   ]
  },
  {
   "cell_type": "markdown",
   "metadata": {},
   "source": [
    "## Linear Regression By Example"
   ]
  },
  {
   "cell_type": "code",
   "execution_count": null,
   "metadata": {},
   "outputs": [],
   "source": [
    "# imports \n",
    "import numpy as np\n",
    "import matplotlib.pyplot as plt\n",
    "\n",
    "# generate random data-set\n",
    "np.random.seed(0)\n",
    "x = np."
   ]
  }
 ],
 "metadata": {
  "kernelspec": {
   "display_name": "Python 3",
   "language": "python",
   "name": "python3"
  },
  "language_info": {
   "codemirror_mode": {
    "name": "ipython",
    "version": 3
   },
   "file_extension": ".py",
   "mimetype": "text/x-python",
   "name": "python",
   "nbconvert_exporter": "python",
   "pygments_lexer": "ipython3",
   "version": "3.7.1"
  }
 },
 "nbformat": 4,
 "nbformat_minor": 2
}
